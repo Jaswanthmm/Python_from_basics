{
  "nbformat": 4,
  "nbformat_minor": 0,
  "metadata": {
    "colab": {
      "provenance": [],
      "authorship_tag": "ABX9TyN2hpBka+cMi1SG6T4YA+lB",
      "include_colab_link": true
    },
    "kernelspec": {
      "name": "python3",
      "display_name": "Python 3"
    },
    "language_info": {
      "name": "python"
    }
  },
  "cells": [
    {
      "cell_type": "markdown",
      "metadata": {
        "id": "view-in-github",
        "colab_type": "text"
      },
      "source": [
        "<a href=\"https://colab.research.google.com/github/Jaswanthmm/Python_from_basics/blob/00_Objects_%26_Data_Structures.ipynb/00_Objects_%26_Data_Structures.ipynb\" target=\"_parent\"><img src=\"https://colab.research.google.com/assets/colab-badge.svg\" alt=\"Open In Colab\"/></a>"
      ]
    },
    {
      "cell_type": "code",
      "execution_count": null,
      "metadata": {
        "colab": {
          "base_uri": "https://localhost:8080/"
        },
        "id": "ceawdbpkpSLr",
        "outputId": "9dfeddaa-eea7-40b0-bc53-31178d0b69e9"
      },
      "outputs": [
        {
          "output_type": "stream",
          "name": "stdout",
          "text": [
            "Hi\n"
          ]
        }
      ],
      "source": [
        "print(\"Hi\")"
      ]
    },
    {
      "cell_type": "code",
      "source": [
        "print(\"hie \\nMr\")"
      ],
      "metadata": {
        "colab": {
          "base_uri": "https://localhost:8080/"
        },
        "id": "ixgLGp8MqUDA",
        "outputId": "707da5d4-f00d-430f-a2c9-55ab54669292"
      },
      "execution_count": null,
      "outputs": [
        {
          "output_type": "stream",
          "name": "stdout",
          "text": [
            "hie \n",
            "Mr\n"
          ]
        }
      ]
    },
    {
      "cell_type": "code",
      "source": [
        "print(\"hie\\tMr\")"
      ],
      "metadata": {
        "colab": {
          "base_uri": "https://localhost:8080/"
        },
        "id": "_4ZQr9sbqjaL",
        "outputId": "b981a055-3240-4b75-a71b-b01546c52e01"
      },
      "execution_count": null,
      "outputs": [
        {
          "output_type": "stream",
          "name": "stdout",
          "text": [
            "hie\tMr\n"
          ]
        }
      ]
    },
    {
      "cell_type": "code",
      "source": [
        "len (\"h i e\")"
      ],
      "metadata": {
        "colab": {
          "base_uri": "https://localhost:8080/"
        },
        "id": "Rf_aydJiuZyl",
        "outputId": "d97fe6a6-3991-4e91-8ad2-792a682b245a"
      },
      "execution_count": null,
      "outputs": [
        {
          "output_type": "execute_result",
          "data": {
            "text/plain": [
              "5"
            ]
          },
          "metadata": {},
          "execution_count": 6
        }
      ]
    },
    {
      "cell_type": "markdown",
      "source": [
        "Indexing"
      ],
      "metadata": {
        "id": "ryfQ7UHlzMeP"
      }
    },
    {
      "cell_type": "code",
      "source": [
        "mystring = \"Hello Jaswanth\""
      ],
      "metadata": {
        "id": "zqchfU9dwnvF"
      },
      "execution_count": null,
      "outputs": []
    },
    {
      "cell_type": "code",
      "source": [
        "mystring[6]"
      ],
      "metadata": {
        "colab": {
          "base_uri": "https://localhost:8080/",
          "height": 36
        },
        "id": "2FDhPaFpzTBm",
        "outputId": "2379fa08-167c-4f62-8976-a810fcb8c87d"
      },
      "execution_count": null,
      "outputs": [
        {
          "output_type": "execute_result",
          "data": {
            "text/plain": [
              "'J'"
            ],
            "application/vnd.google.colaboratory.intrinsic+json": {
              "type": "string"
            }
          },
          "metadata": {},
          "execution_count": 9
        }
      ]
    },
    {
      "cell_type": "code",
      "source": [
        "mystring[-1]"
      ],
      "metadata": {
        "colab": {
          "base_uri": "https://localhost:8080/",
          "height": 36
        },
        "id": "oBz8mkxszVfT",
        "outputId": "4bfed1f5-4c65-4aa0-c5a4-e50ec6ace24b"
      },
      "execution_count": null,
      "outputs": [
        {
          "output_type": "execute_result",
          "data": {
            "text/plain": [
              "'h'"
            ],
            "application/vnd.google.colaboratory.intrinsic+json": {
              "type": "string"
            }
          },
          "metadata": {},
          "execution_count": 10
        }
      ]
    },
    {
      "cell_type": "code",
      "source": [
        "len(mystring)"
      ],
      "metadata": {
        "colab": {
          "base_uri": "https://localhost:8080/"
        },
        "id": "Iuj79egJzliX",
        "outputId": "1ece9e7a-cf0f-46e8-c120-23a9a490eee0"
      },
      "execution_count": null,
      "outputs": [
        {
          "output_type": "execute_result",
          "data": {
            "text/plain": [
              "14"
            ]
          },
          "metadata": {},
          "execution_count": 11
        }
      ]
    },
    {
      "cell_type": "markdown",
      "source": [
        "Slicing"
      ],
      "metadata": {
        "id": "h5YGPUukzvLj"
      }
    },
    {
      "cell_type": "code",
      "source": [
        "mystring[2:]"
      ],
      "metadata": {
        "colab": {
          "base_uri": "https://localhost:8080/",
          "height": 36
        },
        "id": "C1nFAxfyzqNz",
        "outputId": "1b0b9f3a-df67-42cb-f1d8-e4e08087db06"
      },
      "execution_count": null,
      "outputs": [
        {
          "output_type": "execute_result",
          "data": {
            "text/plain": [
              "'llo Jaswanth'"
            ],
            "application/vnd.google.colaboratory.intrinsic+json": {
              "type": "string"
            }
          },
          "metadata": {},
          "execution_count": 13
        }
      ]
    },
    {
      "cell_type": "code",
      "source": [
        "mystring[:5]"
      ],
      "metadata": {
        "colab": {
          "base_uri": "https://localhost:8080/",
          "height": 36
        },
        "id": "CUPFW2oYz9yz",
        "outputId": "71e5c7c6-4ece-4c49-9741-93e27219477f"
      },
      "execution_count": null,
      "outputs": [
        {
          "output_type": "execute_result",
          "data": {
            "text/plain": [
              "'Hello'"
            ],
            "application/vnd.google.colaboratory.intrinsic+json": {
              "type": "string"
            }
          },
          "metadata": {},
          "execution_count": 18
        }
      ]
    },
    {
      "cell_type": "code",
      "source": [
        "mystring[1:9]"
      ],
      "metadata": {
        "colab": {
          "base_uri": "https://localhost:8080/",
          "height": 36
        },
        "id": "iifxeRY-0FHi",
        "outputId": "d7977070-bc1c-40ba-cc51-6fe72baadf89"
      },
      "execution_count": null,
      "outputs": [
        {
          "output_type": "execute_result",
          "data": {
            "text/plain": [
              "'ello Jas'"
            ],
            "application/vnd.google.colaboratory.intrinsic+json": {
              "type": "string"
            }
          },
          "metadata": {},
          "execution_count": 21
        }
      ]
    },
    {
      "cell_type": "code",
      "source": [
        "mystring[::]"
      ],
      "metadata": {
        "colab": {
          "base_uri": "https://localhost:8080/",
          "height": 36
        },
        "id": "VwM7w1RD0XjK",
        "outputId": "a18cd32e-e215-4dcf-e266-4c9fd5132d99"
      },
      "execution_count": null,
      "outputs": [
        {
          "output_type": "execute_result",
          "data": {
            "text/plain": [
              "'Hello Jaswanth'"
            ],
            "application/vnd.google.colaboratory.intrinsic+json": {
              "type": "string"
            }
          },
          "metadata": {},
          "execution_count": 22
        }
      ]
    },
    {
      "cell_type": "code",
      "source": [
        "mystring[::2]"
      ],
      "metadata": {
        "colab": {
          "base_uri": "https://localhost:8080/",
          "height": 36
        },
        "id": "EYmO9nmo0pC5",
        "outputId": "2852916e-a796-42cd-8fc8-66f3434c51cd"
      },
      "execution_count": null,
      "outputs": [
        {
          "output_type": "execute_result",
          "data": {
            "text/plain": [
              "'HloJsat'"
            ],
            "application/vnd.google.colaboratory.intrinsic+json": {
              "type": "string"
            }
          },
          "metadata": {},
          "execution_count": 23
        }
      ]
    },
    {
      "cell_type": "code",
      "source": [
        " mystring[1:9:2]"
      ],
      "metadata": {
        "colab": {
          "base_uri": "https://localhost:8080/",
          "height": 36
        },
        "id": "7cHm4dyV0tvm",
        "outputId": "0e677e48-e6dd-474e-e360-550104396574"
      },
      "execution_count": null,
      "outputs": [
        {
          "output_type": "execute_result",
          "data": {
            "text/plain": [
              "'el a'"
            ],
            "application/vnd.google.colaboratory.intrinsic+json": {
              "type": "string"
            }
          },
          "metadata": {},
          "execution_count": 25
        }
      ]
    },
    {
      "cell_type": "code",
      "source": [
        "mystring[::-1]"
      ],
      "metadata": {
        "colab": {
          "base_uri": "https://localhost:8080/",
          "height": 36
        },
        "id": "IgVp3HO7097u",
        "outputId": "dd6e67af-2ec2-4cdc-d6fc-a5bb23e2ffd3"
      },
      "execution_count": null,
      "outputs": [
        {
          "output_type": "execute_result",
          "data": {
            "text/plain": [
              "'htnawsaJ olleH'"
            ],
            "application/vnd.google.colaboratory.intrinsic+json": {
              "type": "string"
            }
          },
          "metadata": {},
          "execution_count": 26
        }
      ]
    },
    {
      "cell_type": "markdown",
      "source": [
        "Immutability <Strings are not mutable! (meaning you can't use indexing to change individual elements of a string)>"
      ],
      "metadata": {
        "id": "rajusamk2uqL"
      }
    },
    {
      "cell_type": "code",
      "source": [
        "pet = \"jimmy\""
      ],
      "metadata": {
        "id": "XZmPOnYb2tVH"
      },
      "execution_count": null,
      "outputs": []
    },
    {
      "cell_type": "code",
      "source": [
        "print(pet)"
      ],
      "metadata": {
        "colab": {
          "base_uri": "https://localhost:8080/"
        },
        "id": "l_Q5p2nC4RS-",
        "outputId": "4ac9ec55-3e9a-4e15-89d1-e326da99b6ee"
      },
      "execution_count": null,
      "outputs": [
        {
          "output_type": "stream",
          "name": "stdout",
          "text": [
            "jimmy\n"
          ]
        }
      ]
    },
    {
      "cell_type": "code",
      "source": [
        "#pet[0] = \"h\""
      ],
      "metadata": {
        "id": "P0iwNYks23rq"
      },
      "execution_count": null,
      "outputs": []
    },
    {
      "cell_type": "markdown",
      "source": [
        "STRING CONCATINATION"
      ],
      "metadata": {
        "id": "MagD0oew4JdJ"
      }
    },
    {
      "cell_type": "code",
      "source": [
        "new_name = pet[1:]"
      ],
      "metadata": {
        "id": "Khstywiz29zW"
      },
      "execution_count": null,
      "outputs": []
    },
    {
      "cell_type": "code",
      "source": [
        "new_name"
      ],
      "metadata": {
        "colab": {
          "base_uri": "https://localhost:8080/",
          "height": 36
        },
        "id": "g9uGSiDV5A3K",
        "outputId": "f62ba071-ecaf-42e4-b340-9ae73225e9f8"
      },
      "execution_count": null,
      "outputs": [
        {
          "output_type": "execute_result",
          "data": {
            "text/plain": [
              "'immy'"
            ],
            "application/vnd.google.colaboratory.intrinsic+json": {
              "type": "string"
            }
          },
          "metadata": {},
          "execution_count": 35
        }
      ]
    },
    {
      "cell_type": "code",
      "source": [
        "newname = \"h\" + new_name"
      ],
      "metadata": {
        "id": "c17hpVIi4e6T"
      },
      "execution_count": null,
      "outputs": []
    },
    {
      "cell_type": "code",
      "source": [
        "print(newname)"
      ],
      "metadata": {
        "colab": {
          "base_uri": "https://localhost:8080/"
        },
        "id": "DmRzrXgr5FYN",
        "outputId": "a66f1556-eeea-4107-d21d-83b33490abbc"
      },
      "execution_count": null,
      "outputs": [
        {
          "output_type": "stream",
          "name": "stdout",
          "text": [
            "himmy\n"
          ]
        }
      ]
    },
    {
      "cell_type": "code",
      "source": [
        "newname.upper()"
      ],
      "metadata": {
        "colab": {
          "base_uri": "https://localhost:8080/",
          "height": 36
        },
        "id": "EyBOA2eb5UBe",
        "outputId": "74268316-3d4c-4f5e-84c4-e172de99bb88"
      },
      "execution_count": null,
      "outputs": [
        {
          "output_type": "execute_result",
          "data": {
            "text/plain": [
              "'HIMMY'"
            ],
            "application/vnd.google.colaboratory.intrinsic+json": {
              "type": "string"
            }
          },
          "metadata": {},
          "execution_count": 39
        }
      ]
    },
    {
      "cell_type": "code",
      "source": [
        "newname.lower()"
      ],
      "metadata": {
        "colab": {
          "base_uri": "https://localhost:8080/",
          "height": 36
        },
        "id": "0HktUpSW6omF",
        "outputId": "6df609a5-dd7d-48e6-cec6-64e8ec891299"
      },
      "execution_count": null,
      "outputs": [
        {
          "output_type": "execute_result",
          "data": {
            "text/plain": [
              "'himmy'"
            ],
            "application/vnd.google.colaboratory.intrinsic+json": {
              "type": "string"
            }
          },
          "metadata": {},
          "execution_count": 40
        }
      ]
    },
    {
      "cell_type": "code",
      "source": [
        "x = \"hi jimmy how are you\""
      ],
      "metadata": {
        "id": "m227SuvF6y3T"
      },
      "execution_count": null,
      "outputs": []
    },
    {
      "cell_type": "code",
      "source": [
        "print(x)"
      ],
      "metadata": {
        "colab": {
          "base_uri": "https://localhost:8080/"
        },
        "id": "jOAaY2586182",
        "outputId": "f7915fa9-8eb3-4ac9-d9ae-30143fae3b08"
      },
      "execution_count": null,
      "outputs": [
        {
          "output_type": "stream",
          "name": "stdout",
          "text": [
            "hi jimmy how are you\n"
          ]
        }
      ]
    },
    {
      "cell_type": "code",
      "source": [
        "x.split()"
      ],
      "metadata": {
        "colab": {
          "base_uri": "https://localhost:8080/"
        },
        "id": "VgMmx4kW7TQO",
        "outputId": "6c80f332-c636-48b0-e757-d57c3a8df661"
      },
      "execution_count": null,
      "outputs": [
        {
          "output_type": "execute_result",
          "data": {
            "text/plain": [
              "['hi', 'jimmy', 'how', 'are', 'you']"
            ]
          },
          "metadata": {},
          "execution_count": 50
        }
      ]
    },
    {
      "cell_type": "code",
      "source": [
        "x.split(\"i\")"
      ],
      "metadata": {
        "colab": {
          "base_uri": "https://localhost:8080/"
        },
        "id": "4cqMHsU07V8R",
        "outputId": "d0c23a0f-3ba7-4d77-ffa4-f0100fa84743"
      },
      "execution_count": null,
      "outputs": [
        {
          "output_type": "execute_result",
          "data": {
            "text/plain": [
              "['h', ' j', 'mmy how are you']"
            ]
          },
          "metadata": {},
          "execution_count": 51
        }
      ]
    },
    {
      "cell_type": "markdown",
      "source": [
        "PRINT FORMATTING WITH STRINGS\n",
        "\n",
        "\n",
        "```\n",
        "1 .format() method\n",
        "2 f-strings (formatted string literals)\n",
        "```\n",
        "\"string here{ } then also{ }\".format(\"something1\", \"something2\")\n"
      ],
      "metadata": {
        "id": "DWvNxp2I9iTS"
      }
    },
    {
      "cell_type": "code",
      "source": [
        "print(\"This is a string {}\".format(\"inserted\"))"
      ],
      "metadata": {
        "colab": {
          "base_uri": "https://localhost:8080/"
        },
        "id": "16hPhlCl8DdY",
        "outputId": "e16da02c-c9b6-4651-bda0-46d1ce518f07"
      },
      "execution_count": null,
      "outputs": [
        {
          "output_type": "stream",
          "name": "stdout",
          "text": [
            "This is a string inserted\n"
          ]
        }
      ]
    },
    {
      "cell_type": "code",
      "source": [
        "print(\"The {} {} {}\".format(\"fox\",\"brown\", \"quick\"))"
      ],
      "metadata": {
        "colab": {
          "base_uri": "https://localhost:8080/"
        },
        "id": "hlaRUgck-gRl",
        "outputId": "6b5e7a1c-da30-4ff2-8c45-d2acdbb3b2e5"
      },
      "execution_count": null,
      "outputs": [
        {
          "output_type": "stream",
          "name": "stdout",
          "text": [
            "The fox brown quick\n"
          ]
        }
      ]
    },
    {
      "cell_type": "code",
      "source": [
        "print(\"The {2} {1} {0}\".format(\"fox\",\"brown\", \"quick\"))"
      ],
      "metadata": {
        "colab": {
          "base_uri": "https://localhost:8080/"
        },
        "id": "RYkCb7HS_Efu",
        "outputId": "bb43077e-ac55-471b-cc28-5b0ab198b421"
      },
      "execution_count": null,
      "outputs": [
        {
          "output_type": "stream",
          "name": "stdout",
          "text": [
            "The quick brown fox\n"
          ]
        }
      ]
    },
    {
      "cell_type": "code",
      "source": [
        "print(\"The {q} {b} {f}\".format(f =\"fox\",b = \"brown\", q= \"quick\"))"
      ],
      "metadata": {
        "colab": {
          "base_uri": "https://localhost:8080/"
        },
        "id": "3GrEHgOj_OKc",
        "outputId": "58d3f7c8-2f46-4699-a862-d9408de34931"
      },
      "execution_count": null,
      "outputs": [
        {
          "output_type": "stream",
          "name": "stdout",
          "text": [
            "The quick brown fox\n"
          ]
        }
      ]
    },
    {
      "cell_type": "code",
      "source": [
        "result = 100/900"
      ],
      "metadata": {
        "id": "D6EZ0zi6_WRF"
      },
      "execution_count": null,
      "outputs": []
    },
    {
      "cell_type": "code",
      "source": [
        "print(result)"
      ],
      "metadata": {
        "colab": {
          "base_uri": "https://localhost:8080/"
        },
        "id": "b__DhKGQ_u6I",
        "outputId": "8bcd2bbb-035d-4740-ebef-a45d3f20b259"
      },
      "execution_count": null,
      "outputs": [
        {
          "output_type": "stream",
          "name": "stdout",
          "text": [
            "0.1111111111111111\n"
          ]
        }
      ]
    },
    {
      "cell_type": "code",
      "source": [
        "print(\"The Result is {r}\".format(r = result))"
      ],
      "metadata": {
        "colab": {
          "base_uri": "https://localhost:8080/"
        },
        "id": "T0E3vNwV_xK6",
        "outputId": "f651fb9d-7bd1-47ea-e49c-c9157ed41ffb"
      },
      "execution_count": null,
      "outputs": [
        {
          "output_type": "stream",
          "name": "stdout",
          "text": [
            "The Result is 0.1111111111111111\n"
          ]
        }
      ]
    },
    {
      "cell_type": "markdown",
      "source": [
        "Float Formattig follows \"{value:width.precission f}\""
      ],
      "metadata": {
        "id": "Yi93m7qfAU5D"
      }
    },
    {
      "cell_type": "code",
      "source": [
        "print(\"The Result is {r:1.3f}\".format(r = result))"
      ],
      "metadata": {
        "colab": {
          "base_uri": "https://localhost:8080/"
        },
        "id": "ARTPcFcL_5F1",
        "outputId": "3f236354-a633-495f-dd1e-1d7c841deee8"
      },
      "execution_count": null,
      "outputs": [
        {
          "output_type": "stream",
          "name": "stdout",
          "text": [
            "The Result is 0.111\n"
          ]
        }
      ]
    },
    {
      "cell_type": "markdown",
      "source": [
        "F Strings"
      ],
      "metadata": {
        "id": "upqpnnr3AqRN"
      }
    },
    {
      "cell_type": "code",
      "source": [
        "pet = \"jimmy\""
      ],
      "metadata": {
        "id": "Pz98GsUQAQ08"
      },
      "execution_count": null,
      "outputs": []
    },
    {
      "cell_type": "code",
      "source": [
        "print(f\"Hello, my pet name is {pet}\")"
      ],
      "metadata": {
        "colab": {
          "base_uri": "https://localhost:8080/"
        },
        "id": "oeaP_EUbAzVg",
        "outputId": "a9be9863-8f55-492b-90ed-53dad5992e18"
      },
      "execution_count": null,
      "outputs": [
        {
          "output_type": "stream",
          "name": "stdout",
          "text": [
            "Hello, my pet name is jimmy\n"
          ]
        }
      ]
    },
    {
      "cell_type": "markdown",
      "source": [
        "LISTS\n",
        "\n",
        "```\n",
        "1.   Lists are ordered sequence that can hold a variety of objects types.\n",
        "\n",
        "2.   They use [] Brackets and commas to seperate Objects in the list.\n",
        "\n",
        "3.   Lists Support Indexing And slicing. Lists can be nested and also have a variety of useful methods that can be called off of them.\n",
        "\n",
        "\n",
        "```\n",
        "\n"
      ],
      "metadata": {
        "id": "55WoYOGPqNxp"
      }
    },
    {
      "cell_type": "code",
      "source": [
        "my_list= [1, 2, 3, \"hie\", 24.0]"
      ],
      "metadata": {
        "id": "9WSZXyyyA5ct"
      },
      "execution_count": null,
      "outputs": []
    },
    {
      "cell_type": "code",
      "source": [
        "len(my_list)"
      ],
      "metadata": {
        "colab": {
          "base_uri": "https://localhost:8080/"
        },
        "id": "PJ4LVvjorI1a",
        "outputId": "bffc316b-a4a1-4fa6-fc41-3d61e12a83fc"
      },
      "execution_count": null,
      "outputs": [
        {
          "output_type": "execute_result",
          "data": {
            "text/plain": [
              "5"
            ]
          },
          "metadata": {},
          "execution_count": 3
        }
      ]
    },
    {
      "cell_type": "code",
      "source": [
        "my_list[0]"
      ],
      "metadata": {
        "colab": {
          "base_uri": "https://localhost:8080/"
        },
        "id": "OGJgg21OrPIy",
        "outputId": "f12c3af4-15ed-4cd7-dff4-5092f5c48491"
      },
      "execution_count": null,
      "outputs": [
        {
          "output_type": "execute_result",
          "data": {
            "text/plain": [
              "1"
            ]
          },
          "metadata": {},
          "execution_count": 5
        }
      ]
    },
    {
      "cell_type": "code",
      "source": [
        "my_list[1:]"
      ],
      "metadata": {
        "colab": {
          "base_uri": "https://localhost:8080/"
        },
        "id": "fx0lm85mrVRN",
        "outputId": "ac4d23c8-fb69-49e4-c8b3-47266dd09599"
      },
      "execution_count": null,
      "outputs": [
        {
          "output_type": "execute_result",
          "data": {
            "text/plain": [
              "[2, 3, 'hie', 24.0]"
            ]
          },
          "metadata": {},
          "execution_count": 7
        }
      ]
    },
    {
      "cell_type": "code",
      "source": [
        "mylist_2 = [\"hie\", \"Hello\"]"
      ],
      "metadata": {
        "id": "KJTDbnocraQx"
      },
      "execution_count": null,
      "outputs": []
    },
    {
      "cell_type": "code",
      "source": [
        "new_list = my_list + mylist_2"
      ],
      "metadata": {
        "id": "Ufe_p0kerlaF"
      },
      "execution_count": null,
      "outputs": []
    },
    {
      "cell_type": "code",
      "source": [
        "print(new_list)"
      ],
      "metadata": {
        "colab": {
          "base_uri": "https://localhost:8080/"
        },
        "id": "cTcFK0ibrrN_",
        "outputId": "17433b25-ab4c-4aef-9096-08a746d880c7"
      },
      "execution_count": null,
      "outputs": [
        {
          "output_type": "stream",
          "name": "stdout",
          "text": [
            "[1, 2, 3, 'hie', 24.0, 'hie', 'Hello']\n"
          ]
        }
      ]
    },
    {
      "cell_type": "code",
      "source": [
        "new_list[2] = \"new\""
      ],
      "metadata": {
        "id": "VoktxwjHruQ2"
      },
      "execution_count": null,
      "outputs": []
    },
    {
      "cell_type": "code",
      "source": [
        "print(new_list)"
      ],
      "metadata": {
        "colab": {
          "base_uri": "https://localhost:8080/"
        },
        "id": "nIjo-4C9r5bL",
        "outputId": "51101944-c1ce-48a2-9f56-dce461a55f18"
      },
      "execution_count": null,
      "outputs": [
        {
          "output_type": "stream",
          "name": "stdout",
          "text": [
            "[1, 2, 'new', 'hie', 24.0, 'hie', 'Hello']\n"
          ]
        }
      ]
    },
    {
      "cell_type": "markdown",
      "source": [
        "ABOVE EXAMPLE SHOWS it is MUTABLE"
      ],
      "metadata": {
        "id": "FYPAqtvMsHjm"
      }
    },
    {
      "cell_type": "code",
      "source": [
        "new_list.append(\"gm\")"
      ],
      "metadata": {
        "id": "E2P5iQXJr8hH"
      },
      "execution_count": null,
      "outputs": []
    },
    {
      "cell_type": "code",
      "source": [
        "print(new_list)"
      ],
      "metadata": {
        "colab": {
          "base_uri": "https://localhost:8080/"
        },
        "id": "_94gs5lusU4V",
        "outputId": "791d8375-3d46-4ea6-f928-b4e8803a431b"
      },
      "execution_count": null,
      "outputs": [
        {
          "output_type": "stream",
          "name": "stdout",
          "text": [
            "[1, 2, 'new', 'hie', 24.0, 'hie', 'Hello', 'gm']\n"
          ]
        }
      ]
    },
    {
      "cell_type": "code",
      "source": [
        "print(new_list.pop())"
      ],
      "metadata": {
        "colab": {
          "base_uri": "https://localhost:8080/"
        },
        "id": "iGPQf47AsYPr",
        "outputId": "84aded38-dcfe-4703-eb58-81b5731a9c7a"
      },
      "execution_count": null,
      "outputs": [
        {
          "output_type": "stream",
          "name": "stdout",
          "text": [
            "gm\n"
          ]
        }
      ]
    },
    {
      "cell_type": "code",
      "source": [
        "print(new_list)"
      ],
      "metadata": {
        "colab": {
          "base_uri": "https://localhost:8080/"
        },
        "id": "xfhyM9-pssCH",
        "outputId": "ab4eb61e-7f16-48ed-85f0-7c30d00f265f"
      },
      "execution_count": null,
      "outputs": [
        {
          "output_type": "stream",
          "name": "stdout",
          "text": [
            "[1, 2, 'new', 'hie', 'hie']\n"
          ]
        }
      ]
    },
    {
      "cell_type": "code",
      "source": [
        "popped_item =new_list.pop(4)"
      ],
      "metadata": {
        "id": "PMzvupGhsv54"
      },
      "execution_count": null,
      "outputs": []
    },
    {
      "cell_type": "code",
      "source": [
        "print(popped_item)"
      ],
      "metadata": {
        "colab": {
          "base_uri": "https://localhost:8080/"
        },
        "id": "uYYoTHxls4Ef",
        "outputId": "c08f4278-e5d1-4717-d57d-1981883895c0"
      },
      "execution_count": null,
      "outputs": [
        {
          "output_type": "stream",
          "name": "stdout",
          "text": [
            "24.0\n"
          ]
        }
      ]
    },
    {
      "cell_type": "code",
      "source": [
        "print(new_list)"
      ],
      "metadata": {
        "colab": {
          "base_uri": "https://localhost:8080/"
        },
        "id": "hRu5qi9Us6Ye",
        "outputId": "df74e4dd-a164-4e20-fdc7-56e2c1c814ce"
      },
      "execution_count": null,
      "outputs": [
        {
          "output_type": "stream",
          "name": "stdout",
          "text": [
            "[1, 2, 'new', 'hie', 'hie']\n"
          ]
        }
      ]
    },
    {
      "cell_type": "markdown",
      "source": [
        "SORT & REVERSE"
      ],
      "metadata": {
        "id": "n1KOn642t8Wn"
      }
    },
    {
      "cell_type": "code",
      "source": [
        "new_list =[\"b\", \"a,\", \"l\", \"e\"]\n",
        "new_nlist=[7, 4, 88, 23, 45, 10]"
      ],
      "metadata": {
        "id": "-hEwd0kVuAiA"
      },
      "execution_count": null,
      "outputs": []
    },
    {
      "cell_type": "code",
      "source": [
        "new_list.sort()\n"
      ],
      "metadata": {
        "id": "akhlxYeTuH0p"
      },
      "execution_count": null,
      "outputs": []
    },
    {
      "cell_type": "code",
      "source": [
        "print(new_list)"
      ],
      "metadata": {
        "colab": {
          "base_uri": "https://localhost:8080/"
        },
        "id": "55kx5ozfuajo",
        "outputId": "45bac08c-57ec-42c4-c6d0-b88eab46c20d"
      },
      "execution_count": null,
      "outputs": [
        {
          "output_type": "stream",
          "name": "stdout",
          "text": [
            "['a,', 'b', 'e', 'l']\n"
          ]
        }
      ]
    },
    {
      "cell_type": "code",
      "source": [
        "sorted_list = new_list"
      ],
      "metadata": {
        "id": "HPAF_ojluc-q"
      },
      "execution_count": null,
      "outputs": []
    },
    {
      "cell_type": "code",
      "source": [
        "print(sorted_list)"
      ],
      "metadata": {
        "colab": {
          "base_uri": "https://localhost:8080/"
        },
        "id": "dkrGAkvXuk-m",
        "outputId": "627b24af-ef9b-4e1e-8a98-77171b0ba720"
      },
      "execution_count": null,
      "outputs": [
        {
          "output_type": "stream",
          "name": "stdout",
          "text": [
            "['a,', 'b', 'e', 'l']\n"
          ]
        }
      ]
    },
    {
      "cell_type": "code",
      "source": [
        "new_nlist.reverse()"
      ],
      "metadata": {
        "id": "ldoM5D5Eunea"
      },
      "execution_count": null,
      "outputs": []
    },
    {
      "cell_type": "code",
      "source": [
        "reverselist = new_nlist"
      ],
      "metadata": {
        "id": "sASf_QnSuvse"
      },
      "execution_count": null,
      "outputs": []
    },
    {
      "cell_type": "code",
      "source": [
        "print(reverselist)"
      ],
      "metadata": {
        "colab": {
          "base_uri": "https://localhost:8080/"
        },
        "id": "60fYzFfSu6vp",
        "outputId": "349966c2-62e1-403f-80f4-b1d0aea9b445"
      },
      "execution_count": null,
      "outputs": [
        {
          "output_type": "stream",
          "name": "stdout",
          "text": [
            "[10, 45, 23, 88, 4, 7]\n"
          ]
        }
      ]
    },
    {
      "cell_type": "code",
      "source": [
        "reverselist.sort()"
      ],
      "metadata": {
        "id": "8LG0yj3Fu-tZ"
      },
      "execution_count": null,
      "outputs": []
    },
    {
      "cell_type": "code",
      "source": [
        "print(reverselist)"
      ],
      "metadata": {
        "colab": {
          "base_uri": "https://localhost:8080/"
        },
        "id": "SBNn-5fTvL5T",
        "outputId": "455d60a3-eb4a-453b-9d97-56e21c6dd363"
      },
      "execution_count": null,
      "outputs": [
        {
          "output_type": "stream",
          "name": "stdout",
          "text": [
            "[4, 7, 10, 23, 45, 88]\n"
          ]
        }
      ]
    },
    {
      "cell_type": "code",
      "source": [
        "reverselist.reverse()"
      ],
      "metadata": {
        "id": "nSpE1S3BvPPQ"
      },
      "execution_count": null,
      "outputs": []
    },
    {
      "cell_type": "code",
      "source": [
        "print(reverselist)"
      ],
      "metadata": {
        "colab": {
          "base_uri": "https://localhost:8080/"
        },
        "id": "DrTkyNvpvUOy",
        "outputId": "8fd05006-fad3-4f01-c133-ecfe32772f57"
      },
      "execution_count": null,
      "outputs": [
        {
          "output_type": "stream",
          "name": "stdout",
          "text": [
            "[88, 45, 23, 10, 7, 4]\n"
          ]
        }
      ]
    },
    {
      "cell_type": "markdown",
      "source": [
        "List inside List"
      ],
      "metadata": {
        "id": "MAGrUHQOv-7z"
      }
    },
    {
      "cell_type": "code",
      "source": [
        "list2 = [1, 4,[3, 7]]"
      ],
      "metadata": {
        "id": "qY1yxXT2vzEy"
      },
      "execution_count": null,
      "outputs": []
    },
    {
      "cell_type": "code",
      "source": [
        "list2[2][0]"
      ],
      "metadata": {
        "colab": {
          "base_uri": "https://localhost:8080/"
        },
        "id": "JIS4UbZev4_4",
        "outputId": "c3cf8e26-4729-4a82-d963-c8ad8fe59ac5"
      },
      "execution_count": null,
      "outputs": [
        {
          "output_type": "execute_result",
          "data": {
            "text/plain": [
              "3"
            ]
          },
          "metadata": {},
          "execution_count": 52
        }
      ]
    },
    {
      "cell_type": "markdown",
      "source": [
        "DICTIONARIES\n",
        "\n",
        "```\n",
        "\n",
        "\n",
        "1.   Dictionaries are unordered mappings for Storing Objects. Dictionaries use a key value pairing\n",
        "2.   this Key- Value Pair allows users to quicky grab objects needing to know an index location\n",
        "3.   It uses { } and colons : to signify the keys and their associated values.\n",
        "4.    {\"key1\":\"value1\", \"key2\":\"value2\"}\n",
        "\n",
        "LISTS: Objects retrieved by location. Ordered sequence can be indexed or sliced.\n",
        "Dictionaries: Objects retrieved by key name. Unordered and cannot be sorted.\n",
        "\n",
        "Dictionaries are Mutable\n",
        "\n",
        "```\n",
        "\n"
      ],
      "metadata": {
        "id": "0rWfemgovfSI"
      }
    },
    {
      "cell_type": "code",
      "source": [
        "my_dict= {\"key1\":\"value1\", \"key2\":\"value2\"}"
      ],
      "metadata": {
        "id": "0VLeHjblvWPf"
      },
      "execution_count": null,
      "outputs": []
    },
    {
      "cell_type": "code",
      "source": [
        "print(my_dict[\"key2\"])"
      ],
      "metadata": {
        "colab": {
          "base_uri": "https://localhost:8080/"
        },
        "id": "tdO7raEuyfGi",
        "outputId": "c586f549-012f-49e6-defc-7bb81017c15f"
      },
      "execution_count": null,
      "outputs": [
        {
          "output_type": "stream",
          "name": "stdout",
          "text": [
            "value2\n"
          ]
        }
      ]
    },
    {
      "cell_type": "code",
      "source": [
        "prices_lookup = {\"apple\":20, \"banana\": 30, \"milk\":10 }"
      ],
      "metadata": {
        "id": "eY8YBJAayjou"
      },
      "execution_count": null,
      "outputs": []
    },
    {
      "cell_type": "code",
      "source": [
        "prices_lookup[\"apple\"]"
      ],
      "metadata": {
        "colab": {
          "base_uri": "https://localhost:8080/"
        },
        "id": "YsdiM80QyzbS",
        "outputId": "bc13af6d-21f3-413d-ba5e-161496b1af55"
      },
      "execution_count": null,
      "outputs": [
        {
          "output_type": "execute_result",
          "data": {
            "text/plain": [
              "20"
            ]
          },
          "metadata": {},
          "execution_count": 57
        }
      ]
    },
    {
      "cell_type": "code",
      "source": [
        "onemore_dic = {\"k1\": 123, \"k2\": [1,4,8], \"k3\":{\"insidekey\":10} }"
      ],
      "metadata": {
        "id": "Kli6JO30y2y0"
      },
      "execution_count": null,
      "outputs": []
    },
    {
      "cell_type": "code",
      "source": [
        "onemore_dic[\"k2\"]"
      ],
      "metadata": {
        "colab": {
          "base_uri": "https://localhost:8080/"
        },
        "id": "LaMoFxC5zJZ4",
        "outputId": "49d81242-45f8-427c-837b-a3b32e7ae2fe"
      },
      "execution_count": null,
      "outputs": [
        {
          "output_type": "execute_result",
          "data": {
            "text/plain": [
              "[1, 4, 8]"
            ]
          },
          "metadata": {},
          "execution_count": 63
        }
      ]
    },
    {
      "cell_type": "code",
      "source": [
        "onemore_dic[\"k2\"][1]"
      ],
      "metadata": {
        "colab": {
          "base_uri": "https://localhost:8080/"
        },
        "id": "dLGJljrVzOGy",
        "outputId": "c66f56fb-e017-4f1d-f497-11dfb1ea3e27"
      },
      "execution_count": null,
      "outputs": [
        {
          "output_type": "execute_result",
          "data": {
            "text/plain": [
              "4"
            ]
          },
          "metadata": {},
          "execution_count": 64
        }
      ]
    },
    {
      "cell_type": "code",
      "source": [
        "onemore_dic[\"k3\"]"
      ],
      "metadata": {
        "colab": {
          "base_uri": "https://localhost:8080/"
        },
        "id": "AlWJ1FqSzZEE",
        "outputId": "72e0a8b5-6026-4fb3-9025-4db3fee327be"
      },
      "execution_count": null,
      "outputs": [
        {
          "output_type": "execute_result",
          "data": {
            "text/plain": [
              "{'insidekey': 10}"
            ]
          },
          "metadata": {},
          "execution_count": 69
        }
      ]
    },
    {
      "cell_type": "code",
      "source": [
        "onemore_dic[\"k3\"][\"insidekey\"]"
      ],
      "metadata": {
        "colab": {
          "base_uri": "https://localhost:8080/"
        },
        "id": "e3PaiPnQzcqL",
        "outputId": "cf317881-402a-491e-e775-8fd17e13fde1"
      },
      "execution_count": null,
      "outputs": [
        {
          "output_type": "execute_result",
          "data": {
            "text/plain": [
              "10"
            ]
          },
          "metadata": {},
          "execution_count": 68
        }
      ]
    },
    {
      "cell_type": "code",
      "source": [
        "onemore_dic"
      ],
      "metadata": {
        "colab": {
          "base_uri": "https://localhost:8080/"
        },
        "id": "_vDXiChxzhUo",
        "outputId": "5df4e90f-006b-4538-f287-dcbd6b86f9a9"
      },
      "execution_count": null,
      "outputs": [
        {
          "output_type": "execute_result",
          "data": {
            "text/plain": [
              "{'k1': 123, 'k2': [1, 4, 8], 'k3': {'insidekey': 10}}"
            ]
          },
          "metadata": {},
          "execution_count": 71
        }
      ]
    },
    {
      "cell_type": "code",
      "source": [
        "onemore_dic = {'k1': 123, 'k2': [1, 4, \"hie\"], 'k3': {'insidekey': 10}}"
      ],
      "metadata": {
        "id": "IGJmabjFzwre"
      },
      "execution_count": null,
      "outputs": []
    },
    {
      "cell_type": "code",
      "source": [
        "print(onemore_dic)"
      ],
      "metadata": {
        "colab": {
          "base_uri": "https://localhost:8080/"
        },
        "id": "pnsin0d30CVk",
        "outputId": "d57bdc54-f99c-4a7b-f1a0-42decd42c5fe"
      },
      "execution_count": null,
      "outputs": [
        {
          "output_type": "stream",
          "name": "stdout",
          "text": [
            "{'k1': 123, 'k2': [1, 4, 'hie'], 'k3': {'insidekey': 10}}\n"
          ]
        }
      ]
    },
    {
      "cell_type": "code",
      "source": [
        "onemore_dic[\"k2\"][2].upper()"
      ],
      "metadata": {
        "colab": {
          "base_uri": "https://localhost:8080/",
          "height": 36
        },
        "id": "-khGjCIE0FB7",
        "outputId": "174e985f-b136-4967-a08a-0f3af4d02bfb"
      },
      "execution_count": null,
      "outputs": [
        {
          "output_type": "execute_result",
          "data": {
            "text/plain": [
              "'HIE'"
            ],
            "application/vnd.google.colaboratory.intrinsic+json": {
              "type": "string"
            }
          },
          "metadata": {},
          "execution_count": 74
        }
      ]
    },
    {
      "cell_type": "code",
      "source": [
        "print(onemore_dic)"
      ],
      "metadata": {
        "colab": {
          "base_uri": "https://localhost:8080/"
        },
        "id": "_U9kPVea0Mhk",
        "outputId": "3512d0a0-4e28-4ce4-b31e-a35e172e5d6b"
      },
      "execution_count": null,
      "outputs": [
        {
          "output_type": "stream",
          "name": "stdout",
          "text": [
            "{'k1': 123, 'k2': [1, 4, 'hie'], 'k3': {'insidekey': 10}}\n"
          ]
        }
      ]
    },
    {
      "cell_type": "code",
      "source": [
        "onemore_dic[\"k3\"] = \"hello\""
      ],
      "metadata": {
        "id": "SL85LlbN0QVt"
      },
      "execution_count": null,
      "outputs": []
    },
    {
      "cell_type": "code",
      "source": [
        "print(onemore_dic)"
      ],
      "metadata": {
        "colab": {
          "base_uri": "https://localhost:8080/"
        },
        "id": "UYKQZ17b0owL",
        "outputId": "444728ea-a7f0-4835-a31f-52492ad4f77c"
      },
      "execution_count": null,
      "outputs": [
        {
          "output_type": "stream",
          "name": "stdout",
          "text": [
            "{'k1': 123, 'k2': [1, 4, 'hie'], 'k3': 'hello'}\n"
          ]
        }
      ]
    },
    {
      "cell_type": "code",
      "source": [
        "onemore_dic.keys()"
      ],
      "metadata": {
        "colab": {
          "base_uri": "https://localhost:8080/"
        },
        "id": "Cm1ma-ha0tiW",
        "outputId": "2f003d31-1fd4-44cf-e995-0bd36132e30b"
      },
      "execution_count": null,
      "outputs": [
        {
          "output_type": "execute_result",
          "data": {
            "text/plain": [
              "dict_keys(['k1', 'k2', 'k3'])"
            ]
          },
          "metadata": {},
          "execution_count": 79
        }
      ]
    },
    {
      "cell_type": "markdown",
      "source": [
        "It is showing that all the keys are listed"
      ],
      "metadata": {
        "id": "jUmj5q0406tS"
      }
    },
    {
      "cell_type": "code",
      "source": [
        "onemore_dic.values()"
      ],
      "metadata": {
        "colab": {
          "base_uri": "https://localhost:8080/"
        },
        "id": "rT5rZkNk05T1",
        "outputId": "f723afde-a05e-4f8d-9163-f0040dedc132"
      },
      "execution_count": null,
      "outputs": [
        {
          "output_type": "execute_result",
          "data": {
            "text/plain": [
              "dict_values([123, [1, 4, 'hie'], 'hello'])"
            ]
          },
          "metadata": {},
          "execution_count": 80
        }
      ]
    },
    {
      "cell_type": "code",
      "source": [
        "onemore_dic.items()"
      ],
      "metadata": {
        "colab": {
          "base_uri": "https://localhost:8080/"
        },
        "id": "feGGQQD91FGs",
        "outputId": "e2e988a8-f891-407e-f557-0d823cd9ebe4"
      },
      "execution_count": null,
      "outputs": [
        {
          "output_type": "execute_result",
          "data": {
            "text/plain": [
              "dict_items([('k1', 123), ('k2', [1, 4, 'hie']), ('k3', 'hello')])"
            ]
          },
          "metadata": {},
          "execution_count": 81
        }
      ]
    },
    {
      "cell_type": "markdown",
      "source": [
        "TUPLES\n",
        "\n",
        "```\n",
        "1.     **very similar to lists, but these are immutable**\n",
        "2. Representing (1,4,\"hie\")\n",
        "3. only count() & index() , these two methods are vailable for tuple object can call\n",
        "```\n",
        "\n"
      ],
      "metadata": {
        "id": "Krup8uMO2RxW"
      }
    },
    {
      "cell_type": "code",
      "source": [
        "my_tup = (1,\"hiw\",3)"
      ],
      "metadata": {
        "id": "D9ZZ0Ij_1Jph"
      },
      "execution_count": null,
      "outputs": []
    },
    {
      "cell_type": "code",
      "source": [
        "my_tup[0]"
      ],
      "metadata": {
        "colab": {
          "base_uri": "https://localhost:8080/"
        },
        "id": "RzlAuPm_2t-k",
        "outputId": "1f947245-cc55-45e9-d54f-6f6efd8c1cc9"
      },
      "execution_count": null,
      "outputs": [
        {
          "output_type": "execute_result",
          "data": {
            "text/plain": [
              "1"
            ]
          },
          "metadata": {},
          "execution_count": 84
        }
      ]
    },
    {
      "cell_type": "code",
      "source": [
        "my_tup[1:]"
      ],
      "metadata": {
        "colab": {
          "base_uri": "https://localhost:8080/"
        },
        "id": "Of5uBLOc259O",
        "outputId": "d929e19d-51e0-419c-b4b4-b21f2e09774e"
      },
      "execution_count": null,
      "outputs": [
        {
          "output_type": "execute_result",
          "data": {
            "text/plain": [
              "('hiw', 3)"
            ]
          },
          "metadata": {},
          "execution_count": 85
        }
      ]
    },
    {
      "cell_type": "code",
      "source": [
        "len(my_tup)"
      ],
      "metadata": {
        "colab": {
          "base_uri": "https://localhost:8080/"
        },
        "id": "a_Oci9YD28aX",
        "outputId": "222e519b-b00a-4d35-8a5f-4a875c62499a"
      },
      "execution_count": null,
      "outputs": [
        {
          "output_type": "execute_result",
          "data": {
            "text/plain": [
              "3"
            ]
          },
          "metadata": {},
          "execution_count": 86
        }
      ]
    },
    {
      "cell_type": "code",
      "source": [
        "my_tup.count(3)"
      ],
      "metadata": {
        "colab": {
          "base_uri": "https://localhost:8080/"
        },
        "id": "2Hunhmpp3Ety",
        "outputId": "d2b8eb1e-527f-4fde-b0f7-55221c0cc53c"
      },
      "execution_count": null,
      "outputs": [
        {
          "output_type": "execute_result",
          "data": {
            "text/plain": [
              "1"
            ]
          },
          "metadata": {},
          "execution_count": 89
        }
      ]
    },
    {
      "cell_type": "code",
      "source": [
        "my_tup.index(3)"
      ],
      "metadata": {
        "colab": {
          "base_uri": "https://localhost:8080/"
        },
        "id": "yVxLlrBp3J6p",
        "outputId": "ca343ffd-19d9-463b-918c-0d88766643c0"
      },
      "execution_count": null,
      "outputs": [
        {
          "output_type": "execute_result",
          "data": {
            "text/plain": [
              "2"
            ]
          },
          "metadata": {},
          "execution_count": 90
        }
      ]
    },
    {
      "cell_type": "code",
      "source": [
        "my_tup[0] = \"New\""
      ],
      "metadata": {
        "colab": {
          "base_uri": "https://localhost:8080/",
          "height": 175
        },
        "id": "G-w180Jk3ReE",
        "outputId": "14b3577a-a096-4455-fa4d-40f72f8e573c"
      },
      "execution_count": null,
      "outputs": [
        {
          "output_type": "error",
          "ename": "TypeError",
          "evalue": "ignored",
          "traceback": [
            "\u001b[0;31m---------------------------------------------------------------------------\u001b[0m",
            "\u001b[0;31mTypeError\u001b[0m                                 Traceback (most recent call last)",
            "\u001b[0;32m<ipython-input-92-55796772f668>\u001b[0m in \u001b[0;36m<cell line: 1>\u001b[0;34m()\u001b[0m\n\u001b[0;32m----> 1\u001b[0;31m \u001b[0mmy_tup\u001b[0m\u001b[0;34m[\u001b[0m\u001b[0;36m0\u001b[0m\u001b[0;34m]\u001b[0m \u001b[0;34m=\u001b[0m \u001b[0;34m\"New\"\u001b[0m\u001b[0;34m\u001b[0m\u001b[0;34m\u001b[0m\u001b[0m\n\u001b[0m",
            "\u001b[0;31mTypeError\u001b[0m: 'tuple' object does not support item assignment"
          ]
        }
      ]
    },
    {
      "cell_type": "markdown",
      "source": [
        "BELOW EXAMPLE SHOWS IT IS IMMUTABLE"
      ],
      "metadata": {
        "id": "0y8Z34UV3xTq"
      }
    },
    {
      "cell_type": "code",
      "source": [
        "my_tup"
      ],
      "metadata": {
        "colab": {
          "base_uri": "https://localhost:8080/"
        },
        "id": "blvZTeF233oq",
        "outputId": "54c73c23-900f-406e-cfcb-246a70e5d9f9"
      },
      "execution_count": null,
      "outputs": [
        {
          "output_type": "execute_result",
          "data": {
            "text/plain": [
              "(1, 'hiw', 3)"
            ]
          },
          "metadata": {},
          "execution_count": 94
        }
      ]
    },
    {
      "cell_type": "markdown",
      "source": [
        "SETS\n",
        "\n",
        "```\n",
        "Sets are unordered collection of unique elements\n",
        "it is represented by {1, \"hie\"}\n",
        "```\n",
        "\n"
      ],
      "metadata": {
        "id": "Gq5orBC64jxk"
      }
    },
    {
      "cell_type": "code",
      "source": [
        "my_set = set()"
      ],
      "metadata": {
        "id": "coCWNYme3aha"
      },
      "execution_count": null,
      "outputs": []
    },
    {
      "cell_type": "code",
      "source": [
        "my_set.add(1)"
      ],
      "metadata": {
        "id": "YGMRD9BF5Mle"
      },
      "execution_count": null,
      "outputs": []
    },
    {
      "cell_type": "code",
      "source": [
        "print(my_set)"
      ],
      "metadata": {
        "colab": {
          "base_uri": "https://localhost:8080/"
        },
        "id": "qhBiUixy5O-G",
        "outputId": "f3008371-b5ed-4566-89d8-332d2e04f769"
      },
      "execution_count": null,
      "outputs": [
        {
          "output_type": "stream",
          "name": "stdout",
          "text": [
            "{1}\n"
          ]
        }
      ]
    },
    {
      "cell_type": "code",
      "source": [
        "my_set.add(2)"
      ],
      "metadata": {
        "id": "hLQzl4nT5Q-3"
      },
      "execution_count": null,
      "outputs": []
    },
    {
      "cell_type": "code",
      "source": [
        "print(my_set)"
      ],
      "metadata": {
        "colab": {
          "base_uri": "https://localhost:8080/"
        },
        "id": "QfElVMYt5Ul6",
        "outputId": "a3875f4a-0f0d-4d97-b4c8-a46868b1e0fa"
      },
      "execution_count": null,
      "outputs": [
        {
          "output_type": "stream",
          "name": "stdout",
          "text": [
            "{1, 2}\n"
          ]
        }
      ]
    },
    {
      "cell_type": "code",
      "source": [
        "my_set.add(1)"
      ],
      "metadata": {
        "id": "_7KvSO-05XJ1"
      },
      "execution_count": null,
      "outputs": []
    },
    {
      "cell_type": "code",
      "source": [
        "print(my_set)"
      ],
      "metadata": {
        "colab": {
          "base_uri": "https://localhost:8080/"
        },
        "id": "d1kvqZLw5bm-",
        "outputId": "471b4c6b-335f-45b5-cf32-f8fd737a185a"
      },
      "execution_count": null,
      "outputs": [
        {
          "output_type": "stream",
          "name": "stdout",
          "text": [
            "{1, 2}\n"
          ]
        }
      ]
    },
    {
      "cell_type": "markdown",
      "source": [
        "The above example shows that it adds anything only once"
      ],
      "metadata": {
        "id": "scx8bQ7K5gXM"
      }
    },
    {
      "cell_type": "code",
      "source": [
        "set(my_list)"
      ],
      "metadata": {
        "colab": {
          "base_uri": "https://localhost:8080/"
        },
        "id": "EzQgt4Hw5eF0",
        "outputId": "ca679907-4f6d-49c2-c5ed-9524b6468b55"
      },
      "execution_count": null,
      "outputs": [
        {
          "output_type": "execute_result",
          "data": {
            "text/plain": [
              "{1, 2, 24.0, 3, 'hie'}"
            ]
          },
          "metadata": {},
          "execution_count": 102
        }
      ]
    },
    {
      "cell_type": "markdown",
      "source": [
        "The above exaple shows that it will remove the duplicate"
      ],
      "metadata": {
        "id": "tfTZ447A5uuO"
      }
    },
    {
      "cell_type": "markdown",
      "source": [
        "NOW, BOOLEANS\n",
        "\n",
        "```\n",
        "True or False\n",
        "\n",
        "first letter needs to be Capital\n",
        "```\n",
        "\n"
      ],
      "metadata": {
        "id": "5_-E4-M26Vjy"
      }
    },
    {
      "cell_type": "code",
      "source": [
        "type(True)"
      ],
      "metadata": {
        "colab": {
          "base_uri": "https://localhost:8080/"
        },
        "id": "qAUNyvhG5l6x",
        "outputId": "401f5069-f257-4a48-dcf8-2aac3e270a13"
      },
      "execution_count": null,
      "outputs": [
        {
          "output_type": "execute_result",
          "data": {
            "text/plain": [
              "bool"
            ]
          },
          "metadata": {},
          "execution_count": 103
        }
      ]
    },
    {
      "cell_type": "code",
      "source": [
        "1 > 4"
      ],
      "metadata": {
        "colab": {
          "base_uri": "https://localhost:8080/"
        },
        "id": "Knq6J9376pNf",
        "outputId": "4f17e0e9-d995-4bf3-f757-044072586a5c"
      },
      "execution_count": null,
      "outputs": [
        {
          "output_type": "execute_result",
          "data": {
            "text/plain": [
              "False"
            ]
          },
          "metadata": {},
          "execution_count": 104
        }
      ]
    },
    {
      "cell_type": "code",
      "source": [
        "1 == 1"
      ],
      "metadata": {
        "colab": {
          "base_uri": "https://localhost:8080/"
        },
        "id": "CibTIxai6uYR",
        "outputId": "0c8e953d-a3bf-4947-8b56-7e6df0f7b556"
      },
      "execution_count": null,
      "outputs": [
        {
          "output_type": "execute_result",
          "data": {
            "text/plain": [
              "True"
            ]
          },
          "metadata": {},
          "execution_count": 106
        }
      ]
    },
    {
      "cell_type": "code",
      "source": [
        "b = None"
      ],
      "metadata": {
        "id": "gOGlxabv6xfl"
      },
      "execution_count": null,
      "outputs": []
    },
    {
      "cell_type": "code",
      "source": [
        "print(b)"
      ],
      "metadata": {
        "colab": {
          "base_uri": "https://localhost:8080/"
        },
        "id": "zvorNDEo67um",
        "outputId": "e66ff42c-57b1-429b-d264-c669dd54df92"
      },
      "execution_count": null,
      "outputs": [
        {
          "output_type": "stream",
          "name": "stdout",
          "text": [
            "None\n"
          ]
        }
      ]
    },
    {
      "cell_type": "markdown",
      "source": [
        "Just b will leave a tracback error, instead place None"
      ],
      "metadata": {
        "id": "Aj_2JNNJ7DVw"
      }
    },
    {
      "cell_type": "markdown",
      "source": [
        "NOW, INPUT & OUTPUT"
      ],
      "metadata": {
        "id": "b23vZP0a7hTi"
      }
    },
    {
      "cell_type": "code",
      "source": [],
      "metadata": {
        "id": "p5X6cd2A69Kz"
      },
      "execution_count": null,
      "outputs": []
    }
  ]
}